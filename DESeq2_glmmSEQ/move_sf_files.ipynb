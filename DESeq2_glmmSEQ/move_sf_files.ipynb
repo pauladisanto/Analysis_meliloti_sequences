{
 "cells": [
  {
   "cell_type": "code",
   "execution_count": 9,
   "id": "defe240f",
   "metadata": {},
   "outputs": [],
   "source": [
    "import glob\n",
    "import shutil\n",
    "import os"
   ]
  },
  {
   "cell_type": "code",
   "execution_count": 18,
   "id": "b8b47f28",
   "metadata": {},
   "outputs": [
    {
     "name": "stdout",
     "output_type": "stream",
     "text": [
      "288\n"
     ]
    }
   ],
   "source": [
    "all_files = glob.glob('*/*.sf')\n",
    "print(len(all_files))\n",
    "#all_files"
   ]
  },
  {
   "cell_type": "code",
   "execution_count": 50,
   "id": "c37e2618",
   "metadata": {},
   "outputs": [
    {
     "name": "stdout",
     "output_type": "stream",
     "text": [
      "55\n"
     ]
    }
   ],
   "source": [
    "bad_reads = {'0.000', '1.000', '2.000', '3.000'}\n",
    "#bad_reads = {0.000, 1.000, 2.000, 3.000}\n",
    "files = []\n",
    "for file in all_files:\n",
    "    if 'M*' not in file:        \n",
    "        f = open(file)\n",
    "        lines = f.readlines()[1:]\n",
    "        f.close()\n",
    "        i=0\n",
    "        good = True\n",
    "        for line in lines:\n",
    "            while i<5: \n",
    "                i+=1\n",
    "                value = line.split('\\t')[-1].strip()\n",
    "                if str(value) in bad_reads:\n",
    "                    good = False\n",
    "                    i=10 #just to escape the loop\n",
    "        if good: files.append(file)\n",
    " \n",
    "print(len(files))\n",
    "#files"
   ]
  },
  {
   "cell_type": "code",
   "execution_count": 52,
   "id": "2b817efa",
   "metadata": {},
   "outputs": [],
   "source": [
    "try:\n",
    "   os.makedirs(\"quants_merged\")\n",
    "except FileExistsError:\n",
    "   # directory already exists\n",
    "   pass\n",
    "\n",
    "output_dir = 'quants_merged/' #subdirectory where the files will be saved\n",
    "for file in files:\n",
    "    condition = file.split('Reverse')[0] # Obtain the condition from the name \n",
    "    pool = file.split('_')[2] # Obtain the pool from the folder\n",
    "    new_name = pool + '_' + condition[:-1] #+ 'quant.sf'\n",
    "    #print(new_name)\n",
    "    shutil.copy(file, output_dir+new_name)"
   ]
  },
  {
   "cell_type": "code",
   "execution_count": null,
   "id": "a16f550b",
   "metadata": {},
   "outputs": [],
   "source": []
  }
 ],
 "metadata": {
  "kernelspec": {
   "display_name": "Python 3 (ipykernel)",
   "language": "python",
   "name": "python3"
  },
  "language_info": {
   "codemirror_mode": {
    "name": "ipython",
    "version": 3
   },
   "file_extension": ".py",
   "mimetype": "text/x-python",
   "name": "python",
   "nbconvert_exporter": "python",
   "pygments_lexer": "ipython3",
   "version": "3.10.6"
  }
 },
 "nbformat": 4,
 "nbformat_minor": 5
}
